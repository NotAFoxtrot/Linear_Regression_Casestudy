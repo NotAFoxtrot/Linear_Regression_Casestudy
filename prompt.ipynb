{
 "cells": [
  {
   "attachments": {},
   "cell_type": "markdown",
   "metadata": {},
   "source": [
    "Overview\n",
    "Build a Linear Regression Model\n",
    "You are provided with a dataset here.\n",
    "\n",
    "Build a linear regression model that identifies the key drivers of interest rate for individual loans. Perform exploratory data analysis of the relationship between the features and relationship of the features with the response. Select your features and appropriate transformations and use statsmodels or sklearn to build a linear regression model.\n",
    "\n",
    "You do not have to use all the variables. Focus on building the simplest model that explains interest rate. Justify the features you have or have not included in your model.\n",
    "\n",
    "Deliverable\n",
    "Tomorrow afternoon your group will present your results to the class from a Google Sheet or Powerpoint Presentation. Your presentation should:\n",
    "\n",
    "Clearly state the goal of your project (what were you exploring? what scientific question did you ask?)\n",
    "Describe the data.\n",
    "What features (columns) did you have to work with? What features were you interested in?\n",
    "Were the features numerical/categorical/text?\n",
    "Was a lot of data missing or other problems? If so, what did you do to handle it?\n",
    "How did features relate to each other, and the values that you were interested in?\n",
    "Pictures are worth 1000s of words!\n",
    "Clearly state the steps you took to build your model.\n",
    "You should assume that your audience is new business owners seeking a loan and trying make decisions about what loan will give them the best rate when creating this presentation."
   ]
  }
 ],
 "metadata": {
  "language_info": {
   "name": "python"
  },
  "orig_nbformat": 4
 },
 "nbformat": 4,
 "nbformat_minor": 2
}
